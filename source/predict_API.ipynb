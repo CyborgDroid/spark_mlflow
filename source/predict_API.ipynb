{
 "nbformat": 4,
 "nbformat_minor": 2,
 "metadata": {
  "language_info": {
   "name": "python",
   "codemirror_mode": {
    "name": "ipython",
    "version": 3
   },
   "version": "3.7.4"
  },
  "orig_nbformat": 2,
  "file_extension": ".py",
  "mimetype": "text/x-python",
  "name": "python",
  "npconvert_exporter": "python",
  "pygments_lexer": "ipython3",
  "version": 3
 },
 "cells": [
  {
   "cell_type": "code",
   "execution_count": 30,
   "metadata": {},
   "outputs": [
    {
     "name": "stdout",
     "output_type": "stream",
     "text": "This predictor only supports the following content types, ['text/csv', 'application/json', 'application/json; format=pandas-records', 'application/json; format=pandas-split', 'application/json-numpy-split']. Got 'None'.\n"
    }
   ],
   "source": [
    "import requests, json\n",
    "\"\"\"\n",
    "Serve vectorizer and model in terminal:\n",
    "terminal window 1:\n",
    "mlflow models serve -m ./mlruns/1/9373860b1fcf4654b1e6799c0c49859c/artifacts/vectorizer -p 5002\n",
    "curl http://127.0.0.1:5002/invocations -H 'Content-Type: application/json' -d '{\n",
    "    \"columns\":[\n",
    "        \"age\",\n",
    "        \"workclass\",\n",
    "        \"fnlwgt\",\n",
    "        \"education\",\n",
    "        \"education-num\",\n",
    "        \"marital-status\",\n",
    "        \"occupation\",\n",
    "        \"relationship\",\n",
    "        \"race\",\n",
    "        \"sex\",\n",
    "        \"capital-gain\",\n",
    "        \"capital-loss\",\n",
    "        \"hours-per-week\",\n",
    "        \"native-country\"],\n",
    "    \"index\":[0,1],\n",
    "    \"data\":[\n",
    "        [25,\"Private\",226802,\"11th\",7,\"Never-married\",\"Machine-op-inspct\",\"Own-child\",\"Black\",\"Male\",0.0,0.0,40.0,\"United-States\"],\n",
    "        [38,\"Private\",89814,\"HS-grad\",9,\"Married-civ-spouse\",\"Farming-fishing\",\"Husband\",\"White\",\"Male\",0.0,0.0,50.0,\"United-States\"]\n",
    "        ]\n",
    "    }'\n",
    "terminal window 2:\n",
    "mlflow models serve -m ./mlruns/1/4e8b49a2efb04bf599488a944250e5f6/artifacts/best_GBTClassifier -p 5003\n",
    "\"\"\"\n",
    "# with the model being served with mflow serve model, or the dockerized model running:\n",
    "\n",
    "payload = {\n",
    "    \"columns\":[\n",
    "        \"age\",\n",
    "        \"workclass\",\n",
    "        \"fnlwgt\",\n",
    "        \"education\",\n",
    "        \"education-num\",\n",
    "        \"marital-status\",\n",
    "        \"occupation\",\n",
    "        \"relationship\",\n",
    "        \"race\",\n",
    "        \"sex\",\n",
    "        \"capital-gain\",\n",
    "        \"capital-loss\",\n",
    "        \"hours-per-week\",\n",
    "        \"native-country\"],\n",
    "    \"data\":[\n",
    "        [25,\"Private\",226802,\"11th\",7,\"Never-married\",\"Machine-op-inspct\",\"Own-child\",\"Black\",\"Male\",0.0,0.0,40.0,\"United-States\"],\n",
    "        [38,\"Private\",89814,\"HS-grad\",9,\"Married-civ-spouse\",\"Farming-fishing\",\"Husband\",\"White\",\"Male\",0.0,0.0,50.0,\"United-States\"]\n",
    "        ]\n",
    "    }\n",
    "\n",
    "r = requests.post('http://127.0.0.1:5002/invocations', data=json.dumps(payload), headers={\"Content-type\": \"application/json\"})\n",
    "\n",
    "print(r.text)"
   ]
  },
  {
   "cell_type": "code",
   "execution_count": 3,
   "metadata": {},
   "outputs": [
    {
     "name": "stdout",
     "output_type": "stream",
     "text": "This predictor only supports the following content types, ['text/csv', 'application/json', 'application/json; format=pandas-records', 'application/json; format=pandas-split', 'application/json-numpy-split']. Got 'application/x-www-form-urlencoded'.\n"
    }
   ],
   "source": [
    "print(r.text)"
   ]
  },
  {
   "cell_type": "code",
   "execution_count": null,
   "metadata": {},
   "outputs": [],
   "source": []
  }
 ]
}