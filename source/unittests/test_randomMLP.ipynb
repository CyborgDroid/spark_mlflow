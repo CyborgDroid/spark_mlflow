{
 "nbformat": 4,
 "nbformat_minor": 2,
 "metadata": {
  "language_info": {
   "name": "python",
   "codemirror_mode": {
    "name": "ipython",
    "version": 3
   },
   "version": "3.7.4"
  },
  "orig_nbformat": 2,
  "file_extension": ".py",
  "mimetype": "text/x-python",
  "name": "python",
  "npconvert_exporter": "python",
  "pygments_lexer": "ipython3",
  "version": 3
 },
 "cells": [
  {
   "cell_type": "code",
   "metadata": {},
   "outputs": [],
   "source": [
    "# Import packages, start spark session, and load data\n",
    "from source.functions import SparkMethods, DataLoader, SparkMLBinaryClassifierRandomSearch\n",
    "spark = SparkMethods.get_spark_session()\n",
    "\n",
    "df = DataLoader.load_data(\"data/adult.data\")"
   ]
  },
  {
   "cell_type": "code",
   "metadata": {},
   "outputs": [],
   "source": [
    "# Define categorical and scaling feature columns to use OneHotEncoder and MinMaxScaler on them.\n",
    "categorical_cols = [\n",
    "    'workclass', 'education', 'education-num', 'marital-status', 'occupation',\n",
    "    'relationship', 'race', 'sex', 'native-country'\n",
    "]\n",
    "\n",
    "scaling_cols = [\n",
    "    'age', 'fnlwgt', 'capital-gain', 'capital-loss', 'hours-per-week'\n",
    "]"
   ]
  },
  {
   "cell_type": "code",
   "metadata": {},
   "outputs": [],
   "source": [
    "#create vectorizer model and transform df\n",
    "vectorizer, label_vectorizer, transformed_df = SparkMethods.vectorizer(\n",
    "    df,\n",
    "    labels_to_vectorize={'income': 'OneHotEncoderEstimator'},\n",
    "    CategoricalCols=categorical_cols,\n",
    "    MinMaxCols=scaling_cols)\n",
    "transformed_df.show()"
   ]
  },
  {
   "cell_type": "code",
   "metadata": {},
   "outputs": [],
   "source": [
    "# Split the data into training and test sets (30% held out for testing)\n",
    "strata_cols = ['income', 'sex']\n",
    "trainingData, testData = SparkMethods.train_test_split(transformed_df,\n",
    "                                                       strata_cols,\n",
    "                                                       trainRatio=0.7,\n",
    "                                                       show_summary=True)"
   ]
  },
  {
   "cell_type": "code",
   "metadata": {},
   "outputs": [],
   "source": [
    "models = SparkMLBinaryClassifierRandomSearch(\n",
    "    trainingData,\n",
    "    testData,\n",
    "    random_grid_size=8,\n",
    "    kfolds=3,\n",
    "    grid_params={\n",
    "        'MultilayerPerceptronClassifier': {\n",
    "            'num_hidden_layers': range(1, 5),\n",
    "            'first_hidden_layer_size': range(2, 21, 4),\n",
    "            'blockSize': [2, 5, 10],\n",
    "            'stepSize': [0.001, 0.01, 0.1],\n",
    "            'maxIter': [25, 50, 75],\n",
    "            'tol': [1e-06, 0.0001, 0.01]\n",
    "        }\n",
    "    })"
   ]
  },
  {
   "cell_type": "code",
   "metadata": {},
   "outputs": [],
   "source": [
    "# Get best parameters for a tested classification model\n",
    "param_map = grid_search_results.models['GBTClassifier'].bestModel.stages[0].extractParamMap()\n",
    "\n",
    "for p in param_map:\n",
    "    print(p.name, param_map.get(p.name))"
   ]
  }
 ]
}