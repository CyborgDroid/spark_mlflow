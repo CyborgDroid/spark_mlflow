{
 "nbformat": 4,
 "nbformat_minor": 2,
 "metadata": {
  "language_info": {
   "name": "python",
   "codemirror_mode": {
    "name": "ipython",
    "version": 3
   },
   "version": "3.7.4"
  },
  "orig_nbformat": 2,
  "file_extension": ".py",
  "mimetype": "text/x-python",
  "name": "python",
  "npconvert_exporter": "python",
  "pygments_lexer": "ipython3",
  "version": 3
 },
 "cells": [
  {
   "cell_type": "code",
   "execution_count": 1,
   "metadata": {},
   "outputs": [],
   "source": [
    "# Import packages, start spark session, and load data\n",
    "from source.functions import SparkMethods, DataLoader, SparkMLBinaryClassifierRandomSearch\n",
    "spark = SparkMethods.get_spark_session()\n",
    "\n",
    "df = DataLoader.load_data(\"data/adult.data\")"
   ]
  },
  {
   "cell_type": "code",
   "execution_count": 2,
   "metadata": {},
   "outputs": [],
   "source": [
    "# Define categorical and scaling feature columns to use OneHotEncoder and MinMaxScaler on them.\n",
    "categorical_cols = [\n",
    "    'workclass', 'education', 'education-num', 'marital-status', 'occupation',\n",
    "    'relationship', 'race', 'sex', 'native-country'\n",
    "]\n",
    "\n",
    "scaling_cols = [\n",
    "    'age', 'fnlwgt', 'capital-gain', 'capital-loss', 'hours-per-week'\n",
    "]"
   ]
  },
  {
   "cell_type": "code",
   "execution_count": 3,
   "metadata": {},
   "outputs": [
    {
     "name": "stdout",
     "output_type": "stream",
     "text": "20191204\ncreated new MLFlow Experiment\n+---+----------------+------+------------+-------------+--------------------+-----------------+-------------+------------------+------+------------+------------+--------------+--------------+------+---------------+---------------+-------------------+--------------------+----------------+------------------+----------+---------+--------------------+--------------------+--------------------+----------------+-------------+---------------+------------------+-----------------+-------------+---------------+-------------+------------------+--------------------+-----+\n|age|       workclass|fnlwgt|   education|education-num|      marital-status|       occupation| relationship|              race|   sex|capital-gain|capital-loss|hours-per-week|native-country|income|workclass_index|education_index|education-num_index|marital-status_index|occupation_index|relationship_index|race_index|sex_index|native-country_index|    scaling_features|     scaled_features|relationship_vec|      sex_vec| occupation_vec|marital-status_vec|education-num_vec|workclass_vec|  education_vec|     race_vec|native-country_vec|            features|label|\n+---+----------------+------+------------+-------------+--------------------+-----------------+-------------+------------------+------+------------+------------+--------------+--------------+------+---------------+---------------+-------------------+--------------------+----------------+------------------+----------+---------+--------------------+--------------------+--------------------+----------------+-------------+---------------+------------------+-----------------+-------------+---------------+-------------+------------------+--------------------+-----+\n| 39|       State-gov| 77516|   Bachelors|           13|       Never-married|     Adm-clerical|Not-in-family|             White|  Male|      2174.0|         0.0|          40.0| United-States| <=50K|            4.0|            2.0|                2.0|                 1.0|             3.0|               1.0|       0.0|      0.0|                 0.0|[39.0,77516.0,217...|[0.30136986301369...|   (6,[1],[1.0])|(2,[0],[1.0])| (15,[3],[1.0])|     (7,[1],[1.0])|   (16,[2],[1.0])|(9,[4],[1.0])| (16,[2],[1.0])|(5,[0],[1.0])|    (42,[0],[1.0])|(123,[4,11,27,42,...|  0.0|\n| 50|Self-emp-not-inc| 83311|   Bachelors|           13|  Married-civ-spouse|  Exec-managerial|      Husband|             White|  Male|         0.0|         0.0|          13.0| United-States| <=50K|            1.0|            2.0|                2.0|                 0.0|             2.0|               0.0|       0.0|      0.0|                 0.0|[50.0,83311.0,0.0...|[0.45205479452054...|   (6,[0],[1.0])|(2,[0],[1.0])| (15,[2],[1.0])|     (7,[0],[1.0])|   (16,[2],[1.0])|(9,[1],[1.0])| (16,[2],[1.0])|(5,[0],[1.0])|    (42,[0],[1.0])|(123,[1,11,27,41,...|  0.0|\n| 38|         Private|215646|     HS-grad|            9|            Divorced|Handlers-cleaners|Not-in-family|             White|  Male|         0.0|         0.0|          40.0| United-States| <=50K|            0.0|            0.0|                0.0|                 2.0|             9.0|               1.0|       0.0|      0.0|                 0.0|[38.0,215646.0,0....|[0.28767123287671...|   (6,[1],[1.0])|(2,[0],[1.0])| (15,[9],[1.0])|     (7,[2],[1.0])|   (16,[0],[1.0])|(9,[0],[1.0])| (16,[0],[1.0])|(5,[0],[1.0])|    (42,[0],[1.0])|(123,[0,9,25,43,5...|  0.0|\n| 53|         Private|234721|        11th|            7|  Married-civ-spouse|Handlers-cleaners|      Husband|             Black|  Male|         0.0|         0.0|          40.0| United-States| <=50K|            0.0|            5.0|                5.0|                 0.0|             9.0|               0.0|       1.0|      0.0|                 0.0|[53.0,234721.0,0....|[0.49315068493150...|   (6,[0],[1.0])|(2,[0],[1.0])| (15,[9],[1.0])|     (7,[0],[1.0])|   (16,[5],[1.0])|(9,[0],[1.0])| (16,[5],[1.0])|(5,[1],[1.0])|    (42,[0],[1.0])|(123,[0,14,30,41,...|  0.0|\n| 28|         Private|338409|   Bachelors|           13|  Married-civ-spouse|   Prof-specialty|         Wife|             Black|Female|         0.0|         0.0|          40.0|          Cuba| <=50K|            0.0|            2.0|                2.0|                 0.0|             0.0|               4.0|       1.0|      1.0|                 9.0|[28.0,338409.0,0....|[0.15068493150684...|   (6,[4],[1.0])|(2,[1],[1.0])| (15,[0],[1.0])|     (7,[0],[1.0])|   (16,[2],[1.0])|(9,[0],[1.0])| (16,[2],[1.0])|(5,[1],[1.0])|    (42,[9],[1.0])|(123,[0,11,27,41,...|  0.0|\n| 37|         Private|284582|     Masters|           14|  Married-civ-spouse|  Exec-managerial|         Wife|             White|Female|         0.0|         0.0|          40.0| United-States| <=50K|            0.0|            3.0|                3.0|                 0.0|             2.0|               4.0|       0.0|      1.0|                 0.0|[37.0,284582.0,0....|[0.27397260273972...|   (6,[4],[1.0])|(2,[1],[1.0])| (15,[2],[1.0])|     (7,[0],[1.0])|   (16,[3],[1.0])|(9,[0],[1.0])| (16,[3],[1.0])|(5,[0],[1.0])|    (42,[0],[1.0])|(123,[0,12,28,41,...|  0.0|\n| 49|         Private|160187|         9th|            5|Married-spouse-ab...|    Other-service|Not-in-family|             Black|Female|         0.0|         0.0|          16.0|       Jamaica| <=50K|            0.0|           10.0|               10.0|                 5.0|             5.0|               1.0|       1.0|      1.0|                11.0|[49.0,160187.0,0....|[0.43835616438356...|   (6,[1],[1.0])|(2,[1],[1.0])| (15,[5],[1.0])|     (7,[5],[1.0])|  (16,[10],[1.0])|(9,[0],[1.0])|(16,[10],[1.0])|(5,[1],[1.0])|   (42,[11],[1.0])|(123,[0,19,35,46,...|  0.0|\n| 52|Self-emp-not-inc|209642|     HS-grad|            9|  Married-civ-spouse|  Exec-managerial|      Husband|             White|  Male|         0.0|         0.0|          45.0| United-States|  >50K|            1.0|            0.0|                0.0|                 0.0|             2.0|               0.0|       0.0|      0.0|                 0.0|[52.0,209642.0,0....|[0.47945205479452...|   (6,[0],[1.0])|(2,[0],[1.0])| (15,[2],[1.0])|     (7,[0],[1.0])|   (16,[0],[1.0])|(9,[1],[1.0])| (16,[0],[1.0])|(5,[0],[1.0])|    (42,[0],[1.0])|(123,[1,9,25,41,5...|  1.0|\n| 31|         Private| 45781|     Masters|           14|       Never-married|   Prof-specialty|Not-in-family|             White|Female|     14084.0|         0.0|          50.0| United-States|  >50K|            0.0|            3.0|                3.0|                 1.0|             0.0|               1.0|       0.0|      1.0|                 0.0|[31.0,45781.0,140...|[0.19178082191780...|   (6,[1],[1.0])|(2,[1],[1.0])| (15,[0],[1.0])|     (7,[1],[1.0])|   (16,[3],[1.0])|(9,[0],[1.0])| (16,[3],[1.0])|(5,[0],[1.0])|    (42,[0],[1.0])|(123,[0,12,28,42,...|  1.0|\n| 42|         Private|159449|   Bachelors|           13|  Married-civ-spouse|  Exec-managerial|      Husband|             White|  Male|      5178.0|         0.0|          40.0| United-States|  >50K|            0.0|            2.0|                2.0|                 0.0|             2.0|               0.0|       0.0|      0.0|                 0.0|[42.0,159449.0,51...|[0.34246575342465...|   (6,[0],[1.0])|(2,[0],[1.0])| (15,[2],[1.0])|     (7,[0],[1.0])|   (16,[2],[1.0])|(9,[0],[1.0])| (16,[2],[1.0])|(5,[0],[1.0])|    (42,[0],[1.0])|(123,[0,11,27,41,...|  1.0|\n| 37|         Private|280464|Some-college|           10|  Married-civ-spouse|  Exec-managerial|      Husband|             Black|  Male|         0.0|         0.0|          80.0| United-States|  >50K|            0.0|            1.0|                1.0|                 0.0|             2.0|               0.0|       1.0|      0.0|                 0.0|[37.0,280464.0,0....|[0.27397260273972...|   (6,[0],[1.0])|(2,[0],[1.0])| (15,[2],[1.0])|     (7,[0],[1.0])|   (16,[1],[1.0])|(9,[0],[1.0])| (16,[1],[1.0])|(5,[1],[1.0])|    (42,[0],[1.0])|(123,[0,10,26,41,...|  1.0|\n| 30|       State-gov|141297|   Bachelors|           13|  Married-civ-spouse|   Prof-specialty|      Husband|Asian-Pac-Islander|  Male|         0.0|         0.0|          40.0|         India|  >50K|            4.0|            2.0|                2.0|                 0.0|             0.0|               0.0|       2.0|      0.0|                 8.0|[30.0,141297.0,0....|[0.17808219178082...|   (6,[0],[1.0])|(2,[0],[1.0])| (15,[0],[1.0])|     (7,[0],[1.0])|   (16,[2],[1.0])|(9,[4],[1.0])| (16,[2],[1.0])|(5,[2],[1.0])|    (42,[8],[1.0])|(123,[4,11,27,41,...|  1.0|\n| 23|         Private|122272|   Bachelors|           13|       Never-married|     Adm-clerical|    Own-child|             White|Female|         0.0|         0.0|          30.0| United-States| <=50K|            0.0|            2.0|                2.0|                 1.0|             3.0|               2.0|       0.0|      1.0|                 0.0|[23.0,122272.0,0....|[0.08219178082191...|   (6,[2],[1.0])|(2,[1],[1.0])| (15,[3],[1.0])|     (7,[1],[1.0])|   (16,[2],[1.0])|(9,[0],[1.0])| (16,[2],[1.0])|(5,[0],[1.0])|    (42,[0],[1.0])|(123,[0,11,27,42,...|  0.0|\n| 32|         Private|205019|  Assoc-acdm|           12|       Never-married|            Sales|Not-in-family|             Black|  Male|         0.0|         0.0|          50.0| United-States| <=50K|            0.0|            6.0|                6.0|                 1.0|             4.0|               1.0|       1.0|      0.0|                 0.0|[32.0,205019.0,0....|[0.20547945205479...|   (6,[1],[1.0])|(2,[0],[1.0])| (15,[4],[1.0])|     (7,[1],[1.0])|   (16,[6],[1.0])|(9,[0],[1.0])| (16,[6],[1.0])|(5,[1],[1.0])|    (42,[0],[1.0])|(123,[0,15,31,42,...|  0.0|\n| 40|         Private|121772|   Assoc-voc|           11|  Married-civ-spouse|     Craft-repair|      Husband|Asian-Pac-Islander|  Male|         0.0|         0.0|          40.0|             ?|  >50K|            0.0|            4.0|                4.0|                 0.0|             1.0|               0.0|       2.0|      0.0|                 2.0|[40.0,121772.0,0....|[0.31506849315068...|   (6,[0],[1.0])|(2,[0],[1.0])| (15,[1],[1.0])|     (7,[0],[1.0])|   (16,[4],[1.0])|(9,[0],[1.0])| (16,[4],[1.0])|(5,[2],[1.0])|    (42,[2],[1.0])|(123,[0,13,29,41,...|  1.0|\n| 34|         Private|245487|     7th-8th|            4|  Married-civ-spouse| Transport-moving|      Husband|Amer-Indian-Eskimo|  Male|         0.0|         0.0|          45.0|        Mexico| <=50K|            0.0|            8.0|                8.0|                 0.0|             8.0|               0.0|       3.0|      0.0|                 1.0|[34.0,245487.0,0....|[0.23287671232876...|   (6,[0],[1.0])|(2,[0],[1.0])| (15,[8],[1.0])|     (7,[0],[1.0])|   (16,[8],[1.0])|(9,[0],[1.0])| (16,[8],[1.0])|(5,[3],[1.0])|    (42,[1],[1.0])|(123,[0,17,33,41,...|  0.0|\n| 25|Self-emp-not-inc|176756|     HS-grad|            9|       Never-married|  Farming-fishing|    Own-child|             White|  Male|         0.0|         0.0|          35.0| United-States| <=50K|            1.0|            0.0|                0.0|                 1.0|            10.0|               2.0|       0.0|      0.0|                 0.0|[25.0,176756.0,0....|[0.10958904109589...|   (6,[2],[1.0])|(2,[0],[1.0])|(15,[10],[1.0])|     (7,[1],[1.0])|   (16,[0],[1.0])|(9,[1],[1.0])| (16,[0],[1.0])|(5,[0],[1.0])|    (42,[0],[1.0])|(123,[1,9,25,42,5...|  0.0|\n| 32|         Private|186824|     HS-grad|            9|       Never-married|Machine-op-inspct|    Unmarried|             White|  Male|         0.0|         0.0|          40.0| United-States| <=50K|            0.0|            0.0|                0.0|                 1.0|             6.0|               3.0|       0.0|      0.0|                 0.0|[32.0,186824.0,0....|[0.20547945205479...|   (6,[3],[1.0])|(2,[0],[1.0])| (15,[6],[1.0])|     (7,[1],[1.0])|   (16,[0],[1.0])|(9,[0],[1.0])| (16,[0],[1.0])|(5,[0],[1.0])|    (42,[0],[1.0])|(123,[0,9,25,42,5...|  0.0|\n| 38|         Private| 28887|        11th|            7|  Married-civ-spouse|            Sales|      Husband|             White|  Male|         0.0|         0.0|          50.0| United-States| <=50K|            0.0|            5.0|                5.0|                 0.0|             4.0|               0.0|       0.0|      0.0|                 0.0|[38.0,28887.0,0.0...|[0.28767123287671...|   (6,[0],[1.0])|(2,[0],[1.0])| (15,[4],[1.0])|     (7,[0],[1.0])|   (16,[5],[1.0])|(9,[0],[1.0])| (16,[5],[1.0])|(5,[0],[1.0])|    (42,[0],[1.0])|(123,[0,14,30,41,...|  0.0|\n| 43|Self-emp-not-inc|292175|     Masters|           14|            Divorced|  Exec-managerial|    Unmarried|             White|Female|         0.0|         0.0|          45.0| United-States|  >50K|            1.0|            3.0|                3.0|                 2.0|             2.0|               3.0|       0.0|      1.0|                 0.0|[43.0,292175.0,0....|[0.35616438356164...|   (6,[3],[1.0])|(2,[1],[1.0])| (15,[2],[1.0])|     (7,[2],[1.0])|   (16,[3],[1.0])|(9,[1],[1.0])| (16,[3],[1.0])|(5,[0],[1.0])|    (42,[0],[1.0])|(123,[1,12,28,43,...|  1.0|\n+---+----------------+------+------------+-------------+--------------------+-----------------+-------------+------------------+------+------------+------------+--------------+--------------+------+---------------+---------------+-------------------+--------------------+----------------+------------------+----------+---------+--------------------+--------------------+--------------------+----------------+-------------+---------------+------------------+-----------------+-------------+---------------+-------------+------------------+--------------------+-----+\nonly showing top 20 rows\n\n"
    }
   ],
   "source": [
    "#create vectorizer model and transform df\n",
    "vectorizer, label_vectorizer, transformed_df = SparkMethods.vectorizer(\n",
    "    df,\n",
    "    labels_to_vectorize={'income': 'OneHotEncoderEstimator'},\n",
    "    CategoricalCols=categorical_cols,\n",
    "    MinMaxCols=scaling_cols)\n",
    "transformed_df.show()"
   ]
  },
  {
   "cell_type": "code",
   "execution_count": 4,
   "metadata": {},
   "outputs": [
    {
     "name": "stdout",
     "output_type": "stream",
     "text": "Train/test strata:\n+------------+-----------+----------+------+\n|      strata|train_count|test_count|test_%|\n+------------+-----------+----------+------+\n| >50K,Female|        825|       354|   0.3|\n|  <=50K,Male|      10589|      4539|   0.3|\n|<=50K,Female|       6714|      2878|   0.3|\n|   >50K,Male|       4663|      1999|   0.3|\n+------------+-----------+----------+------+\n\n"
    }
   ],
   "source": [
    "# Split the data into training and test sets (30% held out for testing)\n",
    "strata_cols = ['income', 'sex']\n",
    "trainingData, testData = SparkMethods.train_test_split(transformed_df,\n",
    "                                                       strata_cols,\n",
    "                                                       trainRatio=0.7,\n",
    "                                                       show_summary=True)"
   ]
  },
  {
   "cell_type": "code",
   "execution_count": 5,
   "metadata": {},
   "outputs": [
    {
     "name": "stdout",
     "output_type": "stream",
     "text": "Training 8 GBTClassifier models\nUsing existing MLFlow Experiment\n/home/cyborgdroid/miniconda3/envs/spark_mlflow/lib/python3.7/site-packages/pyspark/mllib/evaluation.py:238: DeprecationWarning: Deprecated in 2.0.0. Use accuracy.\n  warnings.warn(\"Deprecated in 2.0.0. Use accuracy.\", DeprecationWarning)\nTraining 8 LinearSVC models\nUsing existing MLFlow Experiment\nTraining 8 MultilayerPerceptronClassifier models\nUsing existing MLFlow Experiment\nTraining 8 LogisticRegression models\nUsing existing MLFlow Experiment\nTraining 8 RandomForestClassifier models\nUsing existing MLFlow Experiment\n"
    }
   ],
   "source": [
    "models = SparkMLBinaryClassifierRandomSearch(\n",
    "    trainingData,\n",
    "    testData,\n",
    "    random_grid_size=8,\n",
    "    kfolds=3,\n",
    "    grid_params={\n",
    "        'GBTClassifier': {\n",
    "            'maxDepth': [3, 5, 7, 9],\n",
    "            'maxBins': [8, 16, 32, 48, 64],\n",
    "            'maxIter': [25, 50, 75],\n",
    "            'stepSize': [0.01, 0.05, 0.1, 0.15, 0.2, 0.25]\n",
    "        },\n",
    "        'LinearSVC': {\n",
    "            'standardization': [True, False],\n",
    "            'aggregationDepth': [2, 5, 7, 10],\n",
    "            'regParam': [0.001, 0.01, 0.1, 1.0, 10.0],\n",
    "            'maxIter': [25, 50, 75],\n",
    "            'tol': [1e-06, 0.0001, 0.01]\n",
    "        },\n",
    "        'MultilayerPerceptronClassifier': {\n",
    "            'num_hidden_layers': range(1, 5),\n",
    "            'first_hidden_layer_size': range(2, 21, 4),\n",
    "            'blockSize': [2, 5, 10],\n",
    "            'stepSize': [0.001, 0.01, 0.1],\n",
    "            'maxIter': [25, 50, 75],\n",
    "            'tol': [1e-06, 0.0001, 0.01]\n",
    "        },\n",
    "        'LogisticRegression': {\n",
    "            'standardization': [True, False],\n",
    "            'aggregationDepth': [2, 5, 7, 10],\n",
    "            'regParam': [0.001, 0.01, 0.1, 1.0, 10.0],\n",
    "            'maxIter': [25, 50, 75],\n",
    "            'threshold': [0.4, 0.5, 0.6],\n",
    "            'elasticNetParam': [0.0, 0.25, 0.5, 0.75, 1.0],\n",
    "            'tol': [1e-06, 0.0001, 0.01]\n",
    "        },\n",
    "        'RandomForestClassifier': {\n",
    "            'maxDepth': [3, 5, 7, 9],\n",
    "            'maxBins': [8, 16, 32, 48, 64],\n",
    "            'minInfoGain': [0.0, 0.05, 0.1],\n",
    "            'impurity': ['gini', 'entropy']\n",
    "        }\n",
    "    })"
   ]
  },
  {
   "cell_type": "code",
   "execution_count": 17,
   "metadata": {},
   "outputs": [
    {
     "name": "stdout",
     "output_type": "stream",
     "text": "cacheNodeIds False\ncheckpointInterval 10\nfeatureSubsetStrategy all\nfeaturesCol features\nlabelCol label\nlossType logistic\nmaxBins 48\nmaxDepth 5\nmaxIter 75\nmaxMemoryInMB 256\nminInfoGain 0.0\nminInstancesPerNode 1\npredictionCol predicted_label\nseed 4698835472529513640\nstepSize 0.2\nsubsamplingRate 1.0\n"
    }
   ],
   "source": [
    "# Get best parameters for a tested classification model\n",
    "param_map = models.models['GBTClassifier'].bestModel.stages[0].extractParamMap()\n",
    "\n",
    "for p in param_map:\n",
    "    print(p.name, param_map.get(p))"
   ]
  },
  {
   "cell_type": "code",
   "execution_count": null,
   "metadata": {},
   "outputs": [],
   "source": []
  }
 ]
}